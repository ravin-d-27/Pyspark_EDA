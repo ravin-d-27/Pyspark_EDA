{
 "cells": [
  {
   "cell_type": "code",
   "execution_count": 6,
   "metadata": {},
   "outputs": [],
   "source": [
    "import pandas as pd\n",
    "import pyspark"
   ]
  },
  {
   "cell_type": "markdown",
   "metadata": {},
   "source": [
    "Creating the Pyspark Session"
   ]
  },
  {
   "cell_type": "code",
   "execution_count": 7,
   "metadata": {},
   "outputs": [],
   "source": [
    "from pyspark.sql import SparkSession"
   ]
  },
  {
   "cell_type": "code",
   "execution_count": 8,
   "metadata": {},
   "outputs": [],
   "source": [
    "spark=SparkSession.builder.appName('Dataframe').getOrCreate()"
   ]
  },
  {
   "cell_type": "code",
   "execution_count": 9,
   "metadata": {},
   "outputs": [
    {
     "data": {
      "text/html": [
       "\n",
       "            <div>\n",
       "                <p><b>SparkSession - in-memory</b></p>\n",
       "                \n",
       "        <div>\n",
       "            <p><b>SparkContext</b></p>\n",
       "\n",
       "            <p><a href=\"http://host.docker.internal:4040\">Spark UI</a></p>\n",
       "\n",
       "            <dl>\n",
       "              <dt>Version</dt>\n",
       "                <dd><code>v3.4.1</code></dd>\n",
       "              <dt>Master</dt>\n",
       "                <dd><code>local[*]</code></dd>\n",
       "              <dt>AppName</dt>\n",
       "                <dd><code>Dataframe</code></dd>\n",
       "            </dl>\n",
       "        </div>\n",
       "        \n",
       "            </div>\n",
       "        "
      ],
      "text/plain": [
       "<pyspark.sql.session.SparkSession at 0x1e8595c02e0>"
      ]
     },
     "execution_count": 9,
     "metadata": {},
     "output_type": "execute_result"
    }
   ],
   "source": [
    "spark"
   ]
  },
  {
   "cell_type": "code",
   "execution_count": 10,
   "metadata": {},
   "outputs": [],
   "source": [
    "df_spark = spark.read.csv(\"Food demand.csv\")"
   ]
  },
  {
   "cell_type": "code",
   "execution_count": 11,
   "metadata": {},
   "outputs": [
    {
     "data": {
      "text/plain": [
       "DataFrame[_c0: string, _c1: string, _c2: string, _c3: string, _c4: string, _c5: string, _c6: string, _c7: string, _c8: string]"
      ]
     },
     "execution_count": 11,
     "metadata": {},
     "output_type": "execute_result"
    }
   ],
   "source": [
    "df_spark"
   ]
  },
  {
   "cell_type": "code",
   "execution_count": 12,
   "metadata": {},
   "outputs": [
    {
     "name": "stdout",
     "output_type": "stream",
     "text": [
      "+-------+----+---------+-------+--------------+----------+--------------------+-----------------+----------+\n",
      "|    _c0| _c1|      _c2|    _c3|           _c4|       _c5|                 _c6|              _c7|       _c8|\n",
      "+-------+----+---------+-------+--------------+----------+--------------------+-----------------+----------+\n",
      "|     id|week|center_id|meal_id|checkout_price|base_price|emailer_for_promo...|homepage_featured|num_orders|\n",
      "|1000000|   3|      157|   2760|        233.83|    231.83|                   0|                0|       149|\n",
      "|1000001| 100|      104|   2956|        486.03|    583.03|                   0|                0|       161|\n",
      "|1000002| 143|       75|   1971|        328.86|    327.86|                   0|                0|       149|\n",
      "|1000003|  41|       24|   2539|        145.53|    145.53|                   0|                0|       540|\n",
      "|1000004|  45|       83|   2539|         95.06|    120.34|                   0|                0|       271|\n",
      "|1000005| 101|       65|   1754|        291.03|    290.03|                   0|                0|       541|\n",
      "|1000006| 107|      153|   2126|        533.53|    533.53|                   0|                0|        53|\n",
      "|1000007|  11|       50|   1062|        160.11|    159.11|                   0|                0|       432|\n",
      "|1000008| 114|       57|   1962|        467.54|    639.23|                   1|                1|       486|\n",
      "|1000009|  68|       36|   1216|        406.43|    408.43|                   0|                0|        28|\n",
      "|1000010|  10|       76|   2760|        243.53|    241.53|                   0|                0|       108|\n",
      "|1000011|  18|      104|   2867|        618.86|    619.86|                   0|                0|        53|\n",
      "|1000012|  33|       36|   2494|        256.08|     243.5|                   0|                1|        94|\n",
      "|1000013| 140|       88|   1571|        485.03|    631.53|                   0|                0|        81|\n",
      "|1000014| 105|       81|   2139|        290.03|    290.03|                   0|                0|        55|\n",
      "|1000015| 112|       43|   2290|        286.15|    288.15|                   0|                0|      1863|\n",
      "|1000016| 131|       77|   2290|        255.11|    257.11|                   0|                0|       418|\n",
      "|1000017|   9|       80|   2826|        298.76|    298.76|                   0|                0|       771|\n",
      "|1000018| 101|       92|   1445|        459.78|    709.13|                   0|                0|        27|\n",
      "+-------+----+---------+-------+--------------+----------+--------------------+-----------------+----------+\n",
      "only showing top 20 rows\n",
      "\n"
     ]
    }
   ],
   "source": [
    "df_spark.show()"
   ]
  },
  {
   "cell_type": "code",
   "execution_count": 19,
   "metadata": {},
   "outputs": [],
   "source": [
    "spark = spark.read.option('header','true')"
   ]
  },
  {
   "cell_type": "code",
   "execution_count": 21,
   "metadata": {},
   "outputs": [],
   "source": [
    "df_spark = spark.csv(\"Food demand.csv\")"
   ]
  },
  {
   "cell_type": "code",
   "execution_count": 22,
   "metadata": {},
   "outputs": [
    {
     "name": "stdout",
     "output_type": "stream",
     "text": [
      "+-------+----+---------+-------+--------------+----------+---------------------+-----------------+----------+\n",
      "|     id|week|center_id|meal_id|checkout_price|base_price|emailer_for_promotion|homepage_featured|num_orders|\n",
      "+-------+----+---------+-------+--------------+----------+---------------------+-----------------+----------+\n",
      "|1000000|   3|      157|   2760|        233.83|    231.83|                    0|                0|       149|\n",
      "|1000001| 100|      104|   2956|        486.03|    583.03|                    0|                0|       161|\n",
      "|1000002| 143|       75|   1971|        328.86|    327.86|                    0|                0|       149|\n",
      "|1000003|  41|       24|   2539|        145.53|    145.53|                    0|                0|       540|\n",
      "|1000004|  45|       83|   2539|         95.06|    120.34|                    0|                0|       271|\n",
      "|1000005| 101|       65|   1754|        291.03|    290.03|                    0|                0|       541|\n",
      "|1000006| 107|      153|   2126|        533.53|    533.53|                    0|                0|        53|\n",
      "|1000007|  11|       50|   1062|        160.11|    159.11|                    0|                0|       432|\n",
      "|1000008| 114|       57|   1962|        467.54|    639.23|                    1|                1|       486|\n",
      "|1000009|  68|       36|   1216|        406.43|    408.43|                    0|                0|        28|\n",
      "|1000010|  10|       76|   2760|        243.53|    241.53|                    0|                0|       108|\n",
      "|1000011|  18|      104|   2867|        618.86|    619.86|                    0|                0|        53|\n",
      "|1000012|  33|       36|   2494|        256.08|     243.5|                    0|                1|        94|\n",
      "|1000013| 140|       88|   1571|        485.03|    631.53|                    0|                0|        81|\n",
      "|1000014| 105|       81|   2139|        290.03|    290.03|                    0|                0|        55|\n",
      "|1000015| 112|       43|   2290|        286.15|    288.15|                    0|                0|      1863|\n",
      "|1000016| 131|       77|   2290|        255.11|    257.11|                    0|                0|       418|\n",
      "|1000017|   9|       80|   2826|        298.76|    298.76|                    0|                0|       771|\n",
      "|1000018| 101|       92|   1445|        459.78|    709.13|                    0|                0|        27|\n",
      "|1000019|  18|       52|   1311|        158.14|    158.14|                    0|                0|       742|\n",
      "+-------+----+---------+-------+--------------+----------+---------------------+-----------------+----------+\n",
      "only showing top 20 rows\n",
      "\n"
     ]
    }
   ],
   "source": [
    "df_spark.show()"
   ]
  },
  {
   "cell_type": "code",
   "execution_count": 23,
   "metadata": {},
   "outputs": [
    {
     "data": {
      "text/plain": [
       "pyspark.sql.dataframe.DataFrame"
      ]
     },
     "execution_count": 23,
     "metadata": {},
     "output_type": "execute_result"
    }
   ],
   "source": [
    "type(df_spark)"
   ]
  },
  {
   "cell_type": "markdown",
   "metadata": {},
   "source": [
    "Know about your Rows and Columns"
   ]
  },
  {
   "cell_type": "code",
   "execution_count": 25,
   "metadata": {},
   "outputs": [
    {
     "data": {
      "text/plain": [
       "[Row(id='1000000', week='3', center_id='157', meal_id='2760', checkout_price='233.83', base_price='231.83', emailer_for_promotion='0', homepage_featured='0', num_orders='149'),\n",
       " Row(id='1000001', week='100', center_id='104', meal_id='2956', checkout_price='486.03', base_price='583.03', emailer_for_promotion='0', homepage_featured='0', num_orders='161'),\n",
       " Row(id='1000002', week='143', center_id='75', meal_id='1971', checkout_price='328.86', base_price='327.86', emailer_for_promotion='0', homepage_featured='0', num_orders='149')]"
      ]
     },
     "execution_count": 25,
     "metadata": {},
     "output_type": "execute_result"
    }
   ],
   "source": [
    "df_spark.head(3)"
   ]
  },
  {
   "cell_type": "code",
   "execution_count": 26,
   "metadata": {},
   "outputs": [
    {
     "name": "stdout",
     "output_type": "stream",
     "text": [
      "root\n",
      " |-- id: string (nullable = true)\n",
      " |-- week: string (nullable = true)\n",
      " |-- center_id: string (nullable = true)\n",
      " |-- meal_id: string (nullable = true)\n",
      " |-- checkout_price: string (nullable = true)\n",
      " |-- base_price: string (nullable = true)\n",
      " |-- emailer_for_promotion: string (nullable = true)\n",
      " |-- homepage_featured: string (nullable = true)\n",
      " |-- num_orders: string (nullable = true)\n",
      "\n"
     ]
    }
   ],
   "source": [
    "df_spark.printSchema()"
   ]
  },
  {
   "cell_type": "code",
   "execution_count": null,
   "metadata": {},
   "outputs": [],
   "source": []
  }
 ],
 "metadata": {
  "kernelspec": {
   "display_name": "rpstvenv",
   "language": "python",
   "name": "python3"
  },
  "language_info": {
   "codemirror_mode": {
    "name": "ipython",
    "version": 3
   },
   "file_extension": ".py",
   "mimetype": "text/x-python",
   "name": "python",
   "nbconvert_exporter": "python",
   "pygments_lexer": "ipython3",
   "version": "3.9.5"
  },
  "orig_nbformat": 4
 },
 "nbformat": 4,
 "nbformat_minor": 2
}
