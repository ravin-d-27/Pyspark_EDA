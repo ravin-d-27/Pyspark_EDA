{
 "cells": [
  {
   "cell_type": "markdown",
   "metadata": {},
   "source": [
    "## Importing the Libraries"
   ]
  },
  {
   "cell_type": "code",
   "execution_count": 38,
   "metadata": {},
   "outputs": [],
   "source": [
    "from pyspark.sql import SparkSession"
   ]
  },
  {
   "cell_type": "code",
   "execution_count": 39,
   "metadata": {},
   "outputs": [],
   "source": [
    "spark = SparkSession.builder.appName('Dataframe').getOrCreate()"
   ]
  },
  {
   "cell_type": "code",
   "execution_count": 40,
   "metadata": {},
   "outputs": [
    {
     "data": {
      "text/html": [
       "\n",
       "            <div>\n",
       "                <p><b>SparkSession - in-memory</b></p>\n",
       "                \n",
       "        <div>\n",
       "            <p><b>SparkContext</b></p>\n",
       "\n",
       "            <p><a href=\"http://host.docker.internal:4041\">Spark UI</a></p>\n",
       "\n",
       "            <dl>\n",
       "              <dt>Version</dt>\n",
       "                <dd><code>v3.4.1</code></dd>\n",
       "              <dt>Master</dt>\n",
       "                <dd><code>local[*]</code></dd>\n",
       "              <dt>AppName</dt>\n",
       "                <dd><code>Dataframe</code></dd>\n",
       "            </dl>\n",
       "        </div>\n",
       "        \n",
       "            </div>\n",
       "        "
      ],
      "text/plain": [
       "<pyspark.sql.session.SparkSession at 0x1c62fa01790>"
      ]
     },
     "execution_count": 40,
     "metadata": {},
     "output_type": "execute_result"
    }
   ],
   "source": [
    "spark"
   ]
  },
  {
   "cell_type": "markdown",
   "metadata": {},
   "source": [
    "## Reading the Dataset"
   ]
  },
  {
   "cell_type": "code",
   "execution_count": 41,
   "metadata": {},
   "outputs": [],
   "source": [
    "df_pyspark = spark.read.option('header', 'true').csv('Food Demand.csv', inferSchema = True)"
   ]
  },
  {
   "cell_type": "code",
   "execution_count": 42,
   "metadata": {},
   "outputs": [
    {
     "name": "stdout",
     "output_type": "stream",
     "text": [
      "+-------+----+---------+-------+--------------+----------+---------------------+-----------------+----------+\n",
      "|     id|week|center_id|meal_id|checkout_price|base_price|emailer_for_promotion|homepage_featured|num_orders|\n",
      "+-------+----+---------+-------+--------------+----------+---------------------+-----------------+----------+\n",
      "|1000000|   3|      157|   2760|        233.83|    231.83|                    0|                0|       149|\n",
      "|1000001| 100|      104|   2956|        486.03|    583.03|                    0|                0|       161|\n",
      "|1000002| 143|       75|   1971|        328.86|    327.86|                    0|                0|       149|\n",
      "|1000003|  41|       24|   2539|        145.53|    145.53|                    0|                0|       540|\n",
      "|1000004|  45|       83|   2539|         95.06|    120.34|                    0|                0|       271|\n",
      "|1000005| 101|       65|   1754|        291.03|    290.03|                    0|                0|       541|\n",
      "|1000006| 107|      153|   2126|        533.53|    533.53|                    0|                0|        53|\n",
      "|1000007|  11|       50|   1062|        160.11|    159.11|                    0|                0|       432|\n",
      "|1000008| 114|       57|   1962|        467.54|    639.23|                    1|                1|       486|\n",
      "|1000009|  68|       36|   1216|        406.43|    408.43|                    0|                0|        28|\n",
      "|1000010|  10|       76|   2760|        243.53|    241.53|                    0|                0|       108|\n",
      "|1000011|  18|      104|   2867|        618.86|    619.86|                    0|                0|        53|\n",
      "|1000012|  33|       36|   2494|        256.08|     243.5|                    0|                1|        94|\n",
      "|1000013| 140|       88|   1571|        485.03|    631.53|                    0|                0|        81|\n",
      "|1000014| 105|       81|   2139|        290.03|    290.03|                    0|                0|        55|\n",
      "|1000015| 112|       43|   2290|        286.15|    288.15|                    0|                0|      1863|\n",
      "|1000016| 131|       77|   2290|        255.11|    257.11|                    0|                0|       418|\n",
      "|1000017|   9|       80|   2826|        298.76|    298.76|                    0|                0|       771|\n",
      "|1000018| 101|       92|   1445|        459.78|    709.13|                    0|                0|        27|\n",
      "|1000019|  18|       52|   1311|        158.14|    158.14|                    0|                0|       742|\n",
      "+-------+----+---------+-------+--------------+----------+---------------------+-----------------+----------+\n",
      "only showing top 20 rows\n",
      "\n"
     ]
    }
   ],
   "source": [
    "df_pyspark.show()"
   ]
  },
  {
   "cell_type": "code",
   "execution_count": 43,
   "metadata": {},
   "outputs": [
    {
     "name": "stdout",
     "output_type": "stream",
     "text": [
      "root\n",
      " |-- id: integer (nullable = true)\n",
      " |-- week: integer (nullable = true)\n",
      " |-- center_id: integer (nullable = true)\n",
      " |-- meal_id: integer (nullable = true)\n",
      " |-- checkout_price: double (nullable = true)\n",
      " |-- base_price: double (nullable = true)\n",
      " |-- emailer_for_promotion: integer (nullable = true)\n",
      " |-- homepage_featured: integer (nullable = true)\n",
      " |-- num_orders: integer (nullable = true)\n",
      "\n"
     ]
    }
   ],
   "source": [
    "df_pyspark.printSchema()"
   ]
  },
  {
   "cell_type": "markdown",
   "metadata": {},
   "source": [
    "Another Simple Way:"
   ]
  },
  {
   "cell_type": "code",
   "execution_count": 44,
   "metadata": {},
   "outputs": [],
   "source": [
    "df_pyspark = spark.read.csv(\"Food demand.csv\", header=True, inferSchema=True)"
   ]
  },
  {
   "cell_type": "code",
   "execution_count": 45,
   "metadata": {},
   "outputs": [
    {
     "name": "stdout",
     "output_type": "stream",
     "text": [
      "+-------+----+---------+-------+--------------+----------+---------------------+-----------------+----------+\n",
      "|     id|week|center_id|meal_id|checkout_price|base_price|emailer_for_promotion|homepage_featured|num_orders|\n",
      "+-------+----+---------+-------+--------------+----------+---------------------+-----------------+----------+\n",
      "|1000000|   3|      157|   2760|        233.83|    231.83|                    0|                0|       149|\n",
      "|1000001| 100|      104|   2956|        486.03|    583.03|                    0|                0|       161|\n",
      "|1000002| 143|       75|   1971|        328.86|    327.86|                    0|                0|       149|\n",
      "|1000003|  41|       24|   2539|        145.53|    145.53|                    0|                0|       540|\n",
      "|1000004|  45|       83|   2539|         95.06|    120.34|                    0|                0|       271|\n",
      "|1000005| 101|       65|   1754|        291.03|    290.03|                    0|                0|       541|\n",
      "|1000006| 107|      153|   2126|        533.53|    533.53|                    0|                0|        53|\n",
      "|1000007|  11|       50|   1062|        160.11|    159.11|                    0|                0|       432|\n",
      "|1000008| 114|       57|   1962|        467.54|    639.23|                    1|                1|       486|\n",
      "|1000009|  68|       36|   1216|        406.43|    408.43|                    0|                0|        28|\n",
      "|1000010|  10|       76|   2760|        243.53|    241.53|                    0|                0|       108|\n",
      "|1000011|  18|      104|   2867|        618.86|    619.86|                    0|                0|        53|\n",
      "|1000012|  33|       36|   2494|        256.08|     243.5|                    0|                1|        94|\n",
      "|1000013| 140|       88|   1571|        485.03|    631.53|                    0|                0|        81|\n",
      "|1000014| 105|       81|   2139|        290.03|    290.03|                    0|                0|        55|\n",
      "|1000015| 112|       43|   2290|        286.15|    288.15|                    0|                0|      1863|\n",
      "|1000016| 131|       77|   2290|        255.11|    257.11|                    0|                0|       418|\n",
      "|1000017|   9|       80|   2826|        298.76|    298.76|                    0|                0|       771|\n",
      "|1000018| 101|       92|   1445|        459.78|    709.13|                    0|                0|        27|\n",
      "|1000019|  18|       52|   1311|        158.14|    158.14|                    0|                0|       742|\n",
      "+-------+----+---------+-------+--------------+----------+---------------------+-----------------+----------+\n",
      "only showing top 20 rows\n",
      "\n"
     ]
    }
   ],
   "source": [
    "df_pyspark.show()"
   ]
  },
  {
   "cell_type": "code",
   "execution_count": 46,
   "metadata": {},
   "outputs": [
    {
     "name": "stdout",
     "output_type": "stream",
     "text": [
      "root\n",
      " |-- id: integer (nullable = true)\n",
      " |-- week: integer (nullable = true)\n",
      " |-- center_id: integer (nullable = true)\n",
      " |-- meal_id: integer (nullable = true)\n",
      " |-- checkout_price: double (nullable = true)\n",
      " |-- base_price: double (nullable = true)\n",
      " |-- emailer_for_promotion: integer (nullable = true)\n",
      " |-- homepage_featured: integer (nullable = true)\n",
      " |-- num_orders: integer (nullable = true)\n",
      "\n"
     ]
    }
   ],
   "source": [
    "df_pyspark.printSchema()"
   ]
  },
  {
   "cell_type": "code",
   "execution_count": 47,
   "metadata": {},
   "outputs": [
    {
     "data": {
      "text/plain": [
       "['id',\n",
       " 'week',\n",
       " 'center_id',\n",
       " 'meal_id',\n",
       " 'checkout_price',\n",
       " 'base_price',\n",
       " 'emailer_for_promotion',\n",
       " 'homepage_featured',\n",
       " 'num_orders']"
      ]
     },
     "execution_count": 47,
     "metadata": {},
     "output_type": "execute_result"
    }
   ],
   "source": [
    "df_pyspark.columns"
   ]
  },
  {
   "cell_type": "code",
   "execution_count": 48,
   "metadata": {},
   "outputs": [
    {
     "data": {
      "text/plain": [
       "[Row(id=1000000, week=3, center_id=157, meal_id=2760, checkout_price=233.83, base_price=231.83, emailer_for_promotion=0, homepage_featured=0, num_orders=149),\n",
       " Row(id=1000001, week=100, center_id=104, meal_id=2956, checkout_price=486.03, base_price=583.03, emailer_for_promotion=0, homepage_featured=0, num_orders=161),\n",
       " Row(id=1000002, week=143, center_id=75, meal_id=1971, checkout_price=328.86, base_price=327.86, emailer_for_promotion=0, homepage_featured=0, num_orders=149),\n",
       " Row(id=1000003, week=41, center_id=24, meal_id=2539, checkout_price=145.53, base_price=145.53, emailer_for_promotion=0, homepage_featured=0, num_orders=540),\n",
       " Row(id=1000004, week=45, center_id=83, meal_id=2539, checkout_price=95.06, base_price=120.34, emailer_for_promotion=0, homepage_featured=0, num_orders=271)]"
      ]
     },
     "execution_count": 48,
     "metadata": {},
     "output_type": "execute_result"
    }
   ],
   "source": [
    "df_pyspark.head(5)"
   ]
  },
  {
   "cell_type": "markdown",
   "metadata": {},
   "source": [
    "## Viewing a single column"
   ]
  },
  {
   "cell_type": "code",
   "execution_count": 49,
   "metadata": {},
   "outputs": [
    {
     "data": {
      "text/plain": [
       "DataFrame[week: int]"
      ]
     },
     "execution_count": 49,
     "metadata": {},
     "output_type": "execute_result"
    }
   ],
   "source": [
    "df_pyspark.select('week')"
   ]
  },
  {
   "cell_type": "code",
   "execution_count": 50,
   "metadata": {},
   "outputs": [
    {
     "name": "stdout",
     "output_type": "stream",
     "text": [
      "+----+\n",
      "|week|\n",
      "+----+\n",
      "|   3|\n",
      "| 100|\n",
      "| 143|\n",
      "|  41|\n",
      "|  45|\n",
      "| 101|\n",
      "| 107|\n",
      "|  11|\n",
      "| 114|\n",
      "|  68|\n",
      "|  10|\n",
      "|  18|\n",
      "|  33|\n",
      "| 140|\n",
      "| 105|\n",
      "| 112|\n",
      "| 131|\n",
      "|   9|\n",
      "| 101|\n",
      "|  18|\n",
      "+----+\n",
      "only showing top 20 rows\n",
      "\n"
     ]
    }
   ],
   "source": [
    "df_pyspark.select('week').show()"
   ]
  },
  {
   "cell_type": "code",
   "execution_count": 51,
   "metadata": {},
   "outputs": [
    {
     "name": "stdout",
     "output_type": "stream",
     "text": [
      "+----+-------+\n",
      "|week|meal_id|\n",
      "+----+-------+\n",
      "|   3|   2760|\n",
      "| 100|   2956|\n",
      "| 143|   1971|\n",
      "|  41|   2539|\n",
      "|  45|   2539|\n",
      "| 101|   1754|\n",
      "| 107|   2126|\n",
      "|  11|   1062|\n",
      "| 114|   1962|\n",
      "|  68|   1216|\n",
      "|  10|   2760|\n",
      "|  18|   2867|\n",
      "|  33|   2494|\n",
      "| 140|   1571|\n",
      "| 105|   2139|\n",
      "| 112|   2290|\n",
      "| 131|   2290|\n",
      "|   9|   2826|\n",
      "| 101|   1445|\n",
      "|  18|   1311|\n",
      "+----+-------+\n",
      "only showing top 20 rows\n",
      "\n"
     ]
    }
   ],
   "source": [
    "df_pyspark.select(['week', 'meal_id']).show()"
   ]
  },
  {
   "cell_type": "markdown",
   "metadata": {},
   "source": [
    "## Checking Data types"
   ]
  },
  {
   "cell_type": "code",
   "execution_count": 52,
   "metadata": {},
   "outputs": [
    {
     "data": {
      "text/plain": [
       "[('id', 'int'),\n",
       " ('week', 'int'),\n",
       " ('center_id', 'int'),\n",
       " ('meal_id', 'int'),\n",
       " ('checkout_price', 'double'),\n",
       " ('base_price', 'double'),\n",
       " ('emailer_for_promotion', 'int'),\n",
       " ('homepage_featured', 'int'),\n",
       " ('num_orders', 'int')]"
      ]
     },
     "execution_count": 52,
     "metadata": {},
     "output_type": "execute_result"
    }
   ],
   "source": [
    "df_pyspark.dtypes"
   ]
  },
  {
   "cell_type": "code",
   "execution_count": 53,
   "metadata": {},
   "outputs": [
    {
     "name": "stdout",
     "output_type": "stream",
     "text": [
      "+-------+-----------------+-----------------+------------------+------------------+------------------+------------------+---------------------+-------------------+------------------+\n",
      "|summary|               id|             week|         center_id|           meal_id|    checkout_price|        base_price|emailer_for_promotion|  homepage_featured|        num_orders|\n",
      "+-------+-----------------+-----------------+------------------+------------------+------------------+------------------+---------------------+-------------------+------------------+\n",
      "|  count|             1999|             1999|              1999|              1999|              1999|              1999|                 1999|               1999|              1999|\n",
      "|   mean|1001093.100050025|75.39319659829916| 81.64982491245622|2010.1235617808904|327.30259629815237|347.97286643321996|  0.07653826913456728|0.10505252626313157|258.34017008504253|\n",
      "| stddev|632.3493185379757|41.74380215978922|46.139172749208925| 554.6865253289483|150.90690242866032| 158.6250911980676|  0.26592393263705066| 0.3066978126603807|413.74304543982504|\n",
      "|    min|          1000000|                1|                10|              1062|             65.02|             93.12|                    0|                  0|                13|\n",
      "|    max|          1002181|              145|               186|              2956|            767.33|            767.33|                    1|                  1|             12137|\n",
      "+-------+-----------------+-----------------+------------------+------------------+------------------+------------------+---------------------+-------------------+------------------+\n",
      "\n"
     ]
    }
   ],
   "source": [
    "df_pyspark.describe().show()"
   ]
  },
  {
   "cell_type": "markdown",
   "metadata": {},
   "source": [
    "## Adding a Column"
   ]
  },
  {
   "cell_type": "code",
   "execution_count": 54,
   "metadata": {},
   "outputs": [],
   "source": [
    "df_pyspark = df_pyspark.withColumn('base_price_USD', df_pyspark[\"checkout_price\"]/80)"
   ]
  },
  {
   "cell_type": "code",
   "execution_count": 55,
   "metadata": {},
   "outputs": [
    {
     "name": "stdout",
     "output_type": "stream",
     "text": [
      "+-------+----+---------+-------+--------------+----------+---------------------+-----------------+----------+------------------+\n",
      "|     id|week|center_id|meal_id|checkout_price|base_price|emailer_for_promotion|homepage_featured|num_orders|    base_price_USD|\n",
      "+-------+----+---------+-------+--------------+----------+---------------------+-----------------+----------+------------------+\n",
      "|1000000|   3|      157|   2760|        233.83|    231.83|                    0|                0|       149|2.9228750000000003|\n",
      "|1000001| 100|      104|   2956|        486.03|    583.03|                    0|                0|       161| 6.075374999999999|\n",
      "|1000002| 143|       75|   1971|        328.86|    327.86|                    0|                0|       149|           4.11075|\n",
      "|1000003|  41|       24|   2539|        145.53|    145.53|                    0|                0|       540|          1.819125|\n",
      "|1000004|  45|       83|   2539|         95.06|    120.34|                    0|                0|       271|           1.18825|\n",
      "|1000005| 101|       65|   1754|        291.03|    290.03|                    0|                0|       541|3.6378749999999997|\n",
      "|1000006| 107|      153|   2126|        533.53|    533.53|                    0|                0|        53| 6.669124999999999|\n",
      "|1000007|  11|       50|   1062|        160.11|    159.11|                    0|                0|       432|2.0013750000000003|\n",
      "|1000008| 114|       57|   1962|        467.54|    639.23|                    1|                1|       486| 5.844250000000001|\n",
      "|1000009|  68|       36|   1216|        406.43|    408.43|                    0|                0|        28|          5.080375|\n",
      "|1000010|  10|       76|   2760|        243.53|    241.53|                    0|                0|       108|          3.044125|\n",
      "|1000011|  18|      104|   2867|        618.86|    619.86|                    0|                0|        53|           7.73575|\n",
      "|1000012|  33|       36|   2494|        256.08|     243.5|                    0|                1|        94|3.2009999999999996|\n",
      "|1000013| 140|       88|   1571|        485.03|    631.53|                    0|                0|        81|          6.062875|\n",
      "|1000014| 105|       81|   2139|        290.03|    290.03|                    0|                0|        55|3.6253749999999996|\n",
      "|1000015| 112|       43|   2290|        286.15|    288.15|                    0|                0|      1863|          3.576875|\n",
      "|1000016| 131|       77|   2290|        255.11|    257.11|                    0|                0|       418|3.1888750000000003|\n",
      "|1000017|   9|       80|   2826|        298.76|    298.76|                    0|                0|       771|3.7344999999999997|\n",
      "|1000018| 101|       92|   1445|        459.78|    709.13|                    0|                0|        27| 5.747249999999999|\n",
      "|1000019|  18|       52|   1311|        158.14|    158.14|                    0|                0|       742|1.9767499999999998|\n",
      "+-------+----+---------+-------+--------------+----------+---------------------+-----------------+----------+------------------+\n",
      "only showing top 20 rows\n",
      "\n"
     ]
    }
   ],
   "source": [
    "df_pyspark.show()"
   ]
  },
  {
   "cell_type": "markdown",
   "metadata": {},
   "source": [
    "## Dropping a Column"
   ]
  },
  {
   "cell_type": "code",
   "execution_count": 56,
   "metadata": {},
   "outputs": [],
   "source": [
    "df_pyspark = df_pyspark.drop('base_price_USD')"
   ]
  },
  {
   "cell_type": "code",
   "execution_count": 57,
   "metadata": {},
   "outputs": [
    {
     "name": "stdout",
     "output_type": "stream",
     "text": [
      "+-------+----+---------+-------+--------------+----------+---------------------+-----------------+----------+\n",
      "|     id|week|center_id|meal_id|checkout_price|base_price|emailer_for_promotion|homepage_featured|num_orders|\n",
      "+-------+----+---------+-------+--------------+----------+---------------------+-----------------+----------+\n",
      "|1000000|   3|      157|   2760|        233.83|    231.83|                    0|                0|       149|\n",
      "|1000001| 100|      104|   2956|        486.03|    583.03|                    0|                0|       161|\n",
      "|1000002| 143|       75|   1971|        328.86|    327.86|                    0|                0|       149|\n",
      "|1000003|  41|       24|   2539|        145.53|    145.53|                    0|                0|       540|\n",
      "|1000004|  45|       83|   2539|         95.06|    120.34|                    0|                0|       271|\n",
      "|1000005| 101|       65|   1754|        291.03|    290.03|                    0|                0|       541|\n",
      "|1000006| 107|      153|   2126|        533.53|    533.53|                    0|                0|        53|\n",
      "|1000007|  11|       50|   1062|        160.11|    159.11|                    0|                0|       432|\n",
      "|1000008| 114|       57|   1962|        467.54|    639.23|                    1|                1|       486|\n",
      "|1000009|  68|       36|   1216|        406.43|    408.43|                    0|                0|        28|\n",
      "|1000010|  10|       76|   2760|        243.53|    241.53|                    0|                0|       108|\n",
      "|1000011|  18|      104|   2867|        618.86|    619.86|                    0|                0|        53|\n",
      "|1000012|  33|       36|   2494|        256.08|     243.5|                    0|                1|        94|\n",
      "|1000013| 140|       88|   1571|        485.03|    631.53|                    0|                0|        81|\n",
      "|1000014| 105|       81|   2139|        290.03|    290.03|                    0|                0|        55|\n",
      "|1000015| 112|       43|   2290|        286.15|    288.15|                    0|                0|      1863|\n",
      "|1000016| 131|       77|   2290|        255.11|    257.11|                    0|                0|       418|\n",
      "|1000017|   9|       80|   2826|        298.76|    298.76|                    0|                0|       771|\n",
      "|1000018| 101|       92|   1445|        459.78|    709.13|                    0|                0|        27|\n",
      "|1000019|  18|       52|   1311|        158.14|    158.14|                    0|                0|       742|\n",
      "+-------+----+---------+-------+--------------+----------+---------------------+-----------------+----------+\n",
      "only showing top 20 rows\n",
      "\n"
     ]
    }
   ],
   "source": [
    "df_pyspark.show()"
   ]
  },
  {
   "cell_type": "markdown",
   "metadata": {},
   "source": [
    "## Renaming a column"
   ]
  },
  {
   "cell_type": "code",
   "execution_count": 58,
   "metadata": {},
   "outputs": [
    {
     "name": "stdout",
     "output_type": "stream",
     "text": [
      "+-------+----+---------+-------+--------------+----------+---------------------+-----------------+----------+\n",
      "|     id|week|center_id|meal_id|checkout_price|BASE_PRICE|emailer_for_promotion|homepage_featured|num_orders|\n",
      "+-------+----+---------+-------+--------------+----------+---------------------+-----------------+----------+\n",
      "|1000000|   3|      157|   2760|        233.83|    231.83|                    0|                0|       149|\n",
      "|1000001| 100|      104|   2956|        486.03|    583.03|                    0|                0|       161|\n",
      "|1000002| 143|       75|   1971|        328.86|    327.86|                    0|                0|       149|\n",
      "|1000003|  41|       24|   2539|        145.53|    145.53|                    0|                0|       540|\n",
      "|1000004|  45|       83|   2539|         95.06|    120.34|                    0|                0|       271|\n",
      "|1000005| 101|       65|   1754|        291.03|    290.03|                    0|                0|       541|\n",
      "|1000006| 107|      153|   2126|        533.53|    533.53|                    0|                0|        53|\n",
      "|1000007|  11|       50|   1062|        160.11|    159.11|                    0|                0|       432|\n",
      "|1000008| 114|       57|   1962|        467.54|    639.23|                    1|                1|       486|\n",
      "|1000009|  68|       36|   1216|        406.43|    408.43|                    0|                0|        28|\n",
      "|1000010|  10|       76|   2760|        243.53|    241.53|                    0|                0|       108|\n",
      "|1000011|  18|      104|   2867|        618.86|    619.86|                    0|                0|        53|\n",
      "|1000012|  33|       36|   2494|        256.08|     243.5|                    0|                1|        94|\n",
      "|1000013| 140|       88|   1571|        485.03|    631.53|                    0|                0|        81|\n",
      "|1000014| 105|       81|   2139|        290.03|    290.03|                    0|                0|        55|\n",
      "|1000015| 112|       43|   2290|        286.15|    288.15|                    0|                0|      1863|\n",
      "|1000016| 131|       77|   2290|        255.11|    257.11|                    0|                0|       418|\n",
      "|1000017|   9|       80|   2826|        298.76|    298.76|                    0|                0|       771|\n",
      "|1000018| 101|       92|   1445|        459.78|    709.13|                    0|                0|        27|\n",
      "|1000019|  18|       52|   1311|        158.14|    158.14|                    0|                0|       742|\n",
      "+-------+----+---------+-------+--------------+----------+---------------------+-----------------+----------+\n",
      "only showing top 20 rows\n",
      "\n"
     ]
    }
   ],
   "source": [
    "df_pyspark.withColumnRenamed('base_price', 'BASE_PRICE').show()"
   ]
  }
 ],
 "metadata": {
  "kernelspec": {
   "display_name": "Python 3",
   "language": "python",
   "name": "python3"
  },
  "language_info": {
   "codemirror_mode": {
    "name": "ipython",
    "version": 3
   },
   "file_extension": ".py",
   "mimetype": "text/x-python",
   "name": "python",
   "nbconvert_exporter": "python",
   "pygments_lexer": "ipython3",
   "version": "3.9.5"
  },
  "orig_nbformat": 4
 },
 "nbformat": 4,
 "nbformat_minor": 2
}
