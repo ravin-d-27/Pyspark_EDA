{
 "cells": [
  {
   "cell_type": "markdown",
   "metadata": {},
   "source": [
    "# Importing the Libraries"
   ]
  },
  {
   "cell_type": "code",
   "execution_count": 1,
   "metadata": {},
   "outputs": [],
   "source": [
    "from pyspark.sql import SparkSession"
   ]
  },
  {
   "cell_type": "code",
   "execution_count": 2,
   "metadata": {},
   "outputs": [],
   "source": [
    "spark = SparkSession.builder.appName('ML_Builder').getOrCreate()"
   ]
  },
  {
   "cell_type": "code",
   "execution_count": 5,
   "metadata": {},
   "outputs": [],
   "source": [
    "df_pyspark = spark.read.csv('Food demand.csv', header=True, inferSchema=True)"
   ]
  },
  {
   "cell_type": "code",
   "execution_count": 6,
   "metadata": {},
   "outputs": [
    {
     "name": "stdout",
     "output_type": "stream",
     "text": [
      "+-------+----+---------+-------+--------------+----------+---------------------+-----------------+----------+\n",
      "|     id|week|center_id|meal_id|checkout_price|base_price|emailer_for_promotion|homepage_featured|num_orders|\n",
      "+-------+----+---------+-------+--------------+----------+---------------------+-----------------+----------+\n",
      "|1000000|   3|      157|   2760|        233.83|    231.83|                    0|                0|       149|\n",
      "|1000001| 100|      104|   2956|        486.03|    583.03|                    0|                0|       161|\n",
      "|1000002| 143|       75|   1971|        328.86|    327.86|                    0|                0|       149|\n",
      "|1000003|  41|       24|   2539|        145.53|    145.53|                    0|                0|       540|\n",
      "|1000004|  45|       83|   2539|         95.06|    120.34|                    0|                0|       271|\n",
      "|1000005| 101|       65|   1754|        291.03|    290.03|                    0|                0|       541|\n",
      "|1000006| 107|      153|   2126|        533.53|    533.53|                    0|                0|        53|\n",
      "|1000007|  11|       50|   1062|        160.11|    159.11|                    0|                0|       432|\n",
      "|1000008| 114|       57|   1962|        467.54|    639.23|                    1|                1|       486|\n",
      "|1000009|  68|       36|   1216|        406.43|    408.43|                    0|                0|        28|\n",
      "|1000010|  10|       76|   2760|        243.53|    241.53|                    0|                0|       108|\n",
      "|1000011|  18|      104|   2867|        618.86|    619.86|                    0|                0|        53|\n",
      "|1000012|  33|       36|   2494|        256.08|     243.5|                    0|                1|        94|\n",
      "|1000013| 140|       88|   1571|        485.03|    631.53|                    0|                0|        81|\n",
      "|1000014| 105|       81|   2139|        290.03|    290.03|                    0|                0|        55|\n",
      "|1000015| 112|       43|   2290|        286.15|    288.15|                    0|                0|      1863|\n",
      "|1000016| 131|       77|   2290|        255.11|    257.11|                    0|                0|       418|\n",
      "|1000017|   9|       80|   2826|        298.76|    298.76|                    0|                0|       771|\n",
      "|1000018| 101|       92|   1445|        459.78|    709.13|                    0|                0|        27|\n",
      "|1000019|  18|       52|   1311|        158.14|    158.14|                    0|                0|       742|\n",
      "+-------+----+---------+-------+--------------+----------+---------------------+-----------------+----------+\n",
      "only showing top 20 rows\n",
      "\n"
     ]
    }
   ],
   "source": [
    "df_pyspark.show()"
   ]
  },
  {
   "cell_type": "code",
   "execution_count": 7,
   "metadata": {},
   "outputs": [
    {
     "name": "stdout",
     "output_type": "stream",
     "text": [
      "root\n",
      " |-- id: integer (nullable = true)\n",
      " |-- week: integer (nullable = true)\n",
      " |-- center_id: integer (nullable = true)\n",
      " |-- meal_id: integer (nullable = true)\n",
      " |-- checkout_price: double (nullable = true)\n",
      " |-- base_price: double (nullable = true)\n",
      " |-- emailer_for_promotion: integer (nullable = true)\n",
      " |-- homepage_featured: integer (nullable = true)\n",
      " |-- num_orders: integer (nullable = true)\n",
      "\n"
     ]
    }
   ],
   "source": [
    "df_pyspark.printSchema()"
   ]
  },
  {
   "cell_type": "markdown",
   "metadata": {},
   "source": [
    "# Grouping Independent Features"
   ]
  },
  {
   "cell_type": "code",
   "execution_count": 8,
   "metadata": {},
   "outputs": [
    {
     "data": {
      "text/plain": [
       "['id',\n",
       " 'week',\n",
       " 'center_id',\n",
       " 'meal_id',\n",
       " 'checkout_price',\n",
       " 'base_price',\n",
       " 'emailer_for_promotion',\n",
       " 'homepage_featured',\n",
       " 'num_orders']"
      ]
     },
     "execution_count": 8,
     "metadata": {},
     "output_type": "execute_result"
    }
   ],
   "source": [
    "df_pyspark.columns"
   ]
  },
  {
   "cell_type": "code",
   "execution_count": 9,
   "metadata": {},
   "outputs": [],
   "source": [
    "from pyspark.ml.feature import VectorAssembler\n",
    "ind_features = ['week',\n",
    " 'center_id',\n",
    " 'meal_id',\n",
    " 'checkout_price',\n",
    " 'base_price',\n",
    " 'emailer_for_promotion',\n",
    " 'homepage_featured',\n",
    "]\n",
    "\n",
    "feature_assembler = VectorAssembler(inputCols=ind_features, outputCol=\"Independent Features\")"
   ]
  },
  {
   "cell_type": "code",
   "execution_count": 10,
   "metadata": {},
   "outputs": [],
   "source": [
    "output = feature_assembler.transform(df_pyspark)"
   ]
  },
  {
   "cell_type": "code",
   "execution_count": 12,
   "metadata": {},
   "outputs": [
    {
     "name": "stdout",
     "output_type": "stream",
     "text": [
      "+-------+----+---------+-------+--------------+----------+---------------------+-----------------+----------+--------------------+\n",
      "|     id|week|center_id|meal_id|checkout_price|base_price|emailer_for_promotion|homepage_featured|num_orders|Independent Features|\n",
      "+-------+----+---------+-------+--------------+----------+---------------------+-----------------+----------+--------------------+\n",
      "|1000000|   3|      157|   2760|        233.83|    231.83|                    0|                0|       149|[3.0,157.0,2760.0...|\n",
      "|1000001| 100|      104|   2956|        486.03|    583.03|                    0|                0|       161|[100.0,104.0,2956...|\n",
      "|1000002| 143|       75|   1971|        328.86|    327.86|                    0|                0|       149|[143.0,75.0,1971....|\n",
      "|1000003|  41|       24|   2539|        145.53|    145.53|                    0|                0|       540|[41.0,24.0,2539.0...|\n",
      "|1000004|  45|       83|   2539|         95.06|    120.34|                    0|                0|       271|[45.0,83.0,2539.0...|\n",
      "|1000005| 101|       65|   1754|        291.03|    290.03|                    0|                0|       541|[101.0,65.0,1754....|\n",
      "|1000006| 107|      153|   2126|        533.53|    533.53|                    0|                0|        53|[107.0,153.0,2126...|\n",
      "|1000007|  11|       50|   1062|        160.11|    159.11|                    0|                0|       432|[11.0,50.0,1062.0...|\n",
      "|1000008| 114|       57|   1962|        467.54|    639.23|                    1|                1|       486|[114.0,57.0,1962....|\n",
      "|1000009|  68|       36|   1216|        406.43|    408.43|                    0|                0|        28|[68.0,36.0,1216.0...|\n",
      "|1000010|  10|       76|   2760|        243.53|    241.53|                    0|                0|       108|[10.0,76.0,2760.0...|\n",
      "|1000011|  18|      104|   2867|        618.86|    619.86|                    0|                0|        53|[18.0,104.0,2867....|\n",
      "|1000012|  33|       36|   2494|        256.08|     243.5|                    0|                1|        94|[33.0,36.0,2494.0...|\n",
      "|1000013| 140|       88|   1571|        485.03|    631.53|                    0|                0|        81|[140.0,88.0,1571....|\n",
      "|1000014| 105|       81|   2139|        290.03|    290.03|                    0|                0|        55|[105.0,81.0,2139....|\n",
      "|1000015| 112|       43|   2290|        286.15|    288.15|                    0|                0|      1863|[112.0,43.0,2290....|\n",
      "|1000016| 131|       77|   2290|        255.11|    257.11|                    0|                0|       418|[131.0,77.0,2290....|\n",
      "|1000017|   9|       80|   2826|        298.76|    298.76|                    0|                0|       771|[9.0,80.0,2826.0,...|\n",
      "|1000018| 101|       92|   1445|        459.78|    709.13|                    0|                0|        27|[101.0,92.0,1445....|\n",
      "|1000019|  18|       52|   1311|        158.14|    158.14|                    0|                0|       742|[18.0,52.0,1311.0...|\n",
      "+-------+----+---------+-------+--------------+----------+---------------------+-----------------+----------+--------------------+\n",
      "only showing top 20 rows\n",
      "\n"
     ]
    }
   ],
   "source": [
    "output.show()"
   ]
  },
  {
   "cell_type": "code",
   "execution_count": 13,
   "metadata": {},
   "outputs": [],
   "source": [
    "finalized = output.select(\"Independent Features\", \"num_orders\")"
   ]
  },
  {
   "cell_type": "code",
   "execution_count": 14,
   "metadata": {},
   "outputs": [
    {
     "name": "stdout",
     "output_type": "stream",
     "text": [
      "+--------------------+----------+\n",
      "|Independent Features|num_orders|\n",
      "+--------------------+----------+\n",
      "|[3.0,157.0,2760.0...|       149|\n",
      "|[100.0,104.0,2956...|       161|\n",
      "|[143.0,75.0,1971....|       149|\n",
      "|[41.0,24.0,2539.0...|       540|\n",
      "|[45.0,83.0,2539.0...|       271|\n",
      "|[101.0,65.0,1754....|       541|\n",
      "|[107.0,153.0,2126...|        53|\n",
      "|[11.0,50.0,1062.0...|       432|\n",
      "|[114.0,57.0,1962....|       486|\n",
      "|[68.0,36.0,1216.0...|        28|\n",
      "|[10.0,76.0,2760.0...|       108|\n",
      "|[18.0,104.0,2867....|        53|\n",
      "|[33.0,36.0,2494.0...|        94|\n",
      "|[140.0,88.0,1571....|        81|\n",
      "|[105.0,81.0,2139....|        55|\n",
      "|[112.0,43.0,2290....|      1863|\n",
      "|[131.0,77.0,2290....|       418|\n",
      "|[9.0,80.0,2826.0,...|       771|\n",
      "|[101.0,92.0,1445....|        27|\n",
      "|[18.0,52.0,1311.0...|       742|\n",
      "+--------------------+----------+\n",
      "only showing top 20 rows\n",
      "\n"
     ]
    }
   ],
   "source": [
    "finalized.show()"
   ]
  },
  {
   "cell_type": "markdown",
   "metadata": {},
   "source": [
    "# Implementation of Machine Learning model"
   ]
  },
  {
   "cell_type": "code",
   "execution_count": 17,
   "metadata": {},
   "outputs": [],
   "source": [
    "from pyspark.ml.regression import LinearRegression\n",
    "train, test = finalized.randomSplit([0.75, 0.25])\n",
    "model = LinearRegression(featuresCol='Independent Features',labelCol='num_orders')\n",
    "model = model.fit(train)"
   ]
  },
  {
   "cell_type": "code",
   "execution_count": 18,
   "metadata": {},
   "outputs": [
    {
     "data": {
      "text/plain": [
       "DenseVector([-0.0407, -0.3366, -0.0022, -0.828, 0.2239, 268.2066, 171.4212])"
      ]
     },
     "execution_count": 18,
     "metadata": {},
     "output_type": "execute_result"
    }
   ],
   "source": [
    "model.coefficients"
   ]
  },
  {
   "cell_type": "code",
   "execution_count": 19,
   "metadata": {},
   "outputs": [
    {
     "data": {
      "text/plain": [
       "448.27303587090074"
      ]
     },
     "execution_count": 19,
     "metadata": {},
     "output_type": "execute_result"
    }
   ],
   "source": [
    "model.intercept"
   ]
  },
  {
   "cell_type": "markdown",
   "metadata": {},
   "source": [
    "# Making Predictions"
   ]
  },
  {
   "cell_type": "code",
   "execution_count": 20,
   "metadata": {},
   "outputs": [],
   "source": [
    "preds = model.evaluate(test)"
   ]
  },
  {
   "cell_type": "code",
   "execution_count": 22,
   "metadata": {},
   "outputs": [
    {
     "name": "stdout",
     "output_type": "stream",
     "text": [
      "+--------------------+----------+------------------+\n",
      "|Independent Features|num_orders|        prediction|\n",
      "+--------------------+----------+------------------+\n",
      "|[1.0,36.0,1971.0,...|       337|   561.61074441895|\n",
      "|[1.0,52.0,1878.0,...|       121|257.67563830052256|\n",
      "|[1.0,61.0,1216.0,...|        95|379.62621279568765|\n",
      "|[2.0,108.0,1543.0...|        53|115.65270831442422|\n",
      "|[2.0,132.0,1803.0...|       338|  290.521969122043|\n",
      "|[3.0,43.0,2306.0,...|       404|472.20980007693913|\n",
      "|[3.0,61.0,1558.0,...|       134| 54.99913427821269|\n",
      "|[3.0,106.0,1754.0...|       377|239.24735429315857|\n",
      "|[3.0,161.0,1754.0...|       136| 220.1327976463236|\n",
      "|[4.0,23.0,2704.0,...|        94|296.57997080062745|\n",
      "|[4.0,41.0,2640.0,...|        54| 280.7528977503619|\n",
      "|[4.0,80.0,1878.0,...|        95| 279.4515028559203|\n",
      "|[4.0,104.0,1885.0...|      1026|498.28108396039823|\n",
      "|[4.0,139.0,1248.0...|        28|355.06482945893003|\n",
      "|[5.0,89.0,2704.0,...|        94| 236.3175399408886|\n",
      "|[5.0,99.0,2290.0,...|     12137| 784.4453695310351|\n",
      "|[5.0,139.0,2444.0...|        14| 409.3446056738589|\n",
      "|[6.0,75.0,1971.0,...|       176| 243.4415672613817|\n",
      "|[7.0,50.0,1062.0,...|       350| 332.9152983126684|\n",
      "|[7.0,51.0,1878.0,...|       229|458.05151704226535|\n",
      "+--------------------+----------+------------------+\n",
      "only showing top 20 rows\n",
      "\n"
     ]
    }
   ],
   "source": [
    "preds.predictions.show()"
   ]
  },
  {
   "cell_type": "markdown",
   "metadata": {},
   "source": [
    "# Evaluating the model"
   ]
  },
  {
   "cell_type": "code",
   "execution_count": 23,
   "metadata": {},
   "outputs": [
    {
     "data": {
      "text/plain": [
       "200.50416646600706"
      ]
     },
     "execution_count": 23,
     "metadata": {},
     "output_type": "execute_result"
    }
   ],
   "source": [
    "preds.meanAbsoluteError"
   ]
  },
  {
   "cell_type": "code",
   "execution_count": 24,
   "metadata": {},
   "outputs": [
    {
     "data": {
      "text/plain": [
       "306988.70949752745"
      ]
     },
     "execution_count": 24,
     "metadata": {},
     "output_type": "execute_result"
    }
   ],
   "source": [
    "preds.meanSquaredError"
   ]
  }
 ],
 "metadata": {
  "kernelspec": {
   "display_name": "Python 3",
   "language": "python",
   "name": "python3"
  },
  "language_info": {
   "codemirror_mode": {
    "name": "ipython",
    "version": 3
   },
   "file_extension": ".py",
   "mimetype": "text/x-python",
   "name": "python",
   "nbconvert_exporter": "python",
   "pygments_lexer": "ipython3",
   "version": "3.9.5"
  },
  "orig_nbformat": 4
 },
 "nbformat": 4,
 "nbformat_minor": 2
}
